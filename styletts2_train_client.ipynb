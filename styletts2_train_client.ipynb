{
 "cells": [
  {
   "cell_type": "markdown",
   "metadata": {},
   "source": [
    "## Client Upload Helper"
   ]
  },
  {
   "cell_type": "code",
   "execution_count": 1,
   "metadata": {},
   "outputs": [
    {
     "name": "stdout",
     "output_type": "stream",
     "text": [
      "vast copy D:\\Code\\StyleTTS2\\Portables\\StyleTTS2Twilight.zip 4330147:/StyleTTS2\n",
      "vast copy D:\\Code\\StyleTTS2\\Models\\Twilight0\\epoch_1st_00051.pth 4330147:/StyleTTS2/Models/Twilight0/pretrained.pth\n"
     ]
    }
   ],
   "source": [
    "EXPERIMENT_NAME = \"Twilight0\"\n",
    "REMOTE_HOST = \"4330147\"\n",
    "LOCAL_DATASET = \"D:\\Code\\StyleTTS2\\Portables\\StyleTTS2Twilight.zip\"\n",
    "LOCAL_PRETRAINED = \"D:\\Code\\StyleTTS2\\Models\\Twilight0\\epoch_1st_00051.pth\"\n",
    "\n",
    "!vast copy {LOCAL_DATASET} {REMOTE_HOST+\":/StyleTTS2\"}\n",
    "!vast copy {LOCAL_PRETRAINED} {REMOTE_HOST+f\":/StyleTTS2/Models/{EXPERIMENT_NAME}/pretrained.pth\"}"
   ]
  }
 ],
 "metadata": {
  "kernelspec": {
   "display_name": "Python 3",
   "language": "python",
   "name": "python3"
  },
  "language_info": {
   "codemirror_mode": {
    "name": "ipython",
    "version": 3
   },
   "file_extension": ".py",
   "mimetype": "text/x-python",
   "name": "python",
   "nbconvert_exporter": "python",
   "pygments_lexer": "ipython3",
   "version": "3.10.7"
  }
 },
 "nbformat": 4,
 "nbformat_minor": 2
}
